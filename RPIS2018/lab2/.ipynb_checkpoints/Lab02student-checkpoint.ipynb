{
 "cells": [
  {
   "cell_type": "markdown",
   "metadata": {},
   "source": [
    "# Discrete sampling\n",
    "In the last problem of the first session we sampled with given probabilities using prefix sums and binary search. The sampling code is the bottleneck of the whole process, its running times is 3 times higher than the code for uniform probabilities, and the difference would only increase for larger number of outcomes. In the next two problems we discuss two simple, but powerful techniques one can use to sample in time $O(1)$."
   ]
  },
  {
   "cell_type": "markdown",
   "metadata": {},
   "source": [
    "**Problem 2a.** Consider the problem of sampling with known probabilities $p_1,\\ldots,p_d$. Suppose that you have a black-box that samples with probabilities $q_1,\\ldots,q_d$ that are close to $p_1,\\ldots,p_d$, say\n",
    "$$ \\forall_{i=1,\\ldots,n} p_i \\le (1+\\varepsilon)q_i.$$\n",
    "\n",
    "* How can you use this black-box to sample with probabilities $p_1,\\ldots,p_d$? It is expected, that the running time of the algorithm would be non-deterministic.\n",
    "* Prove that your algorithm is correct.\n",
    "* Implement the algorithm and use it to give a faster implementation for **Problem 1c**."
   ]
  },
  {
   "cell_type": "code",
   "execution_count": 1,
   "metadata": {},
   "outputs": [
    {
     "ename": "NameError",
     "evalue": "name 'bins' is not defined",
     "output_type": "error",
     "traceback": [
      "\u001b[0;31m---------------------------------------------------------------------------\u001b[0m",
      "\u001b[0;31mNameError\u001b[0m                                 Traceback (most recent call last)",
      "\u001b[0;32m<ipython-input-1-9997a4f25caa>\u001b[0m in \u001b[0;36m<module>\u001b[0;34m\u001b[0m\n\u001b[1;32m     35\u001b[0m \u001b[0;34m\u001b[0m\u001b[0m\n\u001b[1;32m     36\u001b[0m \u001b[0;34m\u001b[0m\u001b[0m\n\u001b[0;32m---> 37\u001b[0;31m \u001b[0mplt\u001b[0m\u001b[0;34m.\u001b[0m\u001b[0mhist\u001b[0m\u001b[0;34m(\u001b[0m\u001b[0msamples\u001b[0m\u001b[0;34m,\u001b[0m \u001b[0mbins\u001b[0m\u001b[0;34m(\u001b[0m\u001b[0;36m1\u001b[0m\u001b[0;34m,\u001b[0m \u001b[0;36m100\u001b[0m\u001b[0;34m)\u001b[0m\u001b[0;34m)\u001b[0m\u001b[0;34m\u001b[0m\u001b[0m\n\u001b[0m\u001b[1;32m     38\u001b[0m \u001b[0mplt\u001b[0m\u001b[0;34m.\u001b[0m\u001b[0mshow\u001b[0m\u001b[0;34m(\u001b[0m\u001b[0;34m)\u001b[0m\u001b[0;34m\u001b[0m\u001b[0m\n",
      "\u001b[0;31mNameError\u001b[0m: name 'bins' is not defined"
     ]
    }
   ],
   "source": [
    "import numpy as np\n",
    "import matplotlib.pyplot as plt\n",
    "from operator import itemgetter\n",
    "\n",
    "data = np.loadtxt(open(\"us_births_69_88.csv\"),\n",
    "                     dtype={'names': ('day', 'month', 'births'),\n",
    "                           'formats': ('i4', 'i4', 'i4')},\n",
    "                     comments=\"#\",\n",
    "                     delimiter=\",\", \n",
    "                     skiprows=1)\n",
    "\n",
    "max_births = max(data, key = itemgetter(2))[2]\n",
    "\n",
    "done = 0\n",
    "\n",
    "samples = []\n",
    "\n",
    "\n",
    "\n",
    "while done < 100000:\n",
    "    found = False\n",
    "    tries = 0\n",
    "    done = done + 1\n",
    "    found_days = [0] * 365\n",
    "    while found == False:\n",
    "        day = np.random.randint(0, 364, 1)\n",
    "        birth_prob = np.random.randint(0, max_births, 1)\n",
    "        if birth_prob[0] < data[day[0]][2]:\n",
    "            tries += 1;\n",
    "            found_days[day[0]] += 1\n",
    "            if found_days[day[0]] == 2:\n",
    "                found = True\n",
    "                samples.append(tries)\n",
    "        \n",
    "\n",
    "    \n",
    "plt.hist(samples, bins(1, 100))\n",
    "plt.show()\n"
   ]
  },
  {
   "cell_type": "markdown",
   "metadata": {},
   "source": [
    "**Problem 2b.** One of the reasons this implementation is not significantly faster than the one in **Problem 1c** , apart from $d$ being rather small, is that we are using Python's interpreter a bit too much, and Python is slow. One way around this is usually to use a library function - **searchsorted** is much faster than an equivalent code implemented in pure Python. But even if the functionality you need is not implemented in a lower level language as\n",
    "a library function, there is still hope. You can try to implement it using optimized array algebra, for example using **numpy**. In this problem, your task is to rewrite the previous algorithm, so that the amount of *looping* is reduced to a minimum necessary. In particular, you should create a *vectorized* version of random dates generation (in bulk), while the actual search for duplicates remains a loop with a **set**. Here are some useful tips:\n",
    "   * You can perform arithmetic, comparisons, etc. on **numpy** arrays.\n",
    "   * You can generate whole **numpy** arrays of random numbers at once.\n",
    "   * You can even perform parallel look-up like in the example below."
   ]
  },
  {
   "cell_type": "code",
   "execution_count": null,
   "metadata": {},
   "outputs": [],
   "source": [
    "import numpy as np\n",
    "import matplotlib.pyplot as plt\n",
    "from operator import itemgetter\n",
    "\n",
    "data = np.loadtxt(open(\"us_births_69_88.csv\"),\n",
    "                     dtype={'names': ('day', 'month', 'births'),\n",
    "                           'formats': ('i4', 'i4', 'i4')},\n",
    "                     comments=\"#\",\n",
    "                     delimiter=\",\", \n",
    "                     skiprows=1)\n",
    "\n",
    "max_births = max(data, key = itemgetter(2))[2]\n",
    "\n",
    "done = 0\n",
    "\n",
    "samples = []\n",
    "\n",
    "\n",
    "\n",
    "while done < 100000:\n",
    "    found = False\n",
    "    tries = 0\n",
    "    done = done + 1\n",
    "    found_days = [0] * 365\n",
    "    \n",
    "    day = np.random.randint(0, 364, 100)        \n",
    "    birth_prob = np.random.randint(0, max_births, 100)\n",
    "    result_array = day < birth_prob\n",
    "    \n",
    "    \n",
    "        \n",
    "    \n",
    "plt.hist(samples, 50)\n",
    "plt.show()\n"
   ]
  },
  {
   "cell_type": "code",
   "execution_count": 20,
   "metadata": {},
   "outputs": [
    {
     "name": "stdout",
     "output_type": "stream",
     "text": [
      "[3 3 7 7]\n",
      "[2 1 4]\n"
     ]
    }
   ],
   "source": [
    "X = np.array([10,3,7])\n",
    "I = np.array([1,1,2,2])\n",
    "print(X[I])\n",
    "X = np.array([[1,2],[3,4]])\n",
    "I = np.array([0,0,1])\n",
    "J = np.array([1,0,1])\n",
    "print(X[I,J])"
   ]
  },
  {
   "cell_type": "markdown",
   "metadata": {},
   "source": [
    "**Problem 2c (Squaring the histogram).** In this problem, we again want to sample with known probabilities $p_1,\\ldots,p_n$, but this time we make no assumptions on $p_i$. Consider the following algorithm:\n",
    "   * Let $V$ be the mean of $p_i$, i.e. $V=\\frac{1}{n}$.\n",
    "   * Create $n$ buckets, each with volume $V$, put each $p_i$ into a separate bucket.\n",
    "   * Until there exists a bucket $A$ that is not full, find a bucket $B$ that overflows, and trasfer probability from $B$ to $A$ until $A$ is exactly full\n",
    "\n",
    "Show that:\n",
    "   * This algorithm always ends.\n",
    "   * When it ends, each bucket contains pieces of exactly two $p_i$'s.\n",
    "\n",
    "How to use the result of this algorithm to sample with probabilities $p_i$. Argue that your algorithm is correct and implement it. The sampling part should be *vectorized*. Use this algorithm to sample birthdates again, and test its efficiency."
   ]
  },
  {
   "cell_type": "code",
   "execution_count": 65,
   "metadata": {},
   "outputs": [
    {
     "data": {
      "image/png": "[encoded data removed]",
      "text/plain": [
       "<Figure size 432x288 with 1 Axes>"
      ]
     },
     "metadata": {
      "needs_background": "light"
     },
     "output_type": "display_data"
    }
   ],
   "source": [
    "import random\n",
    "import numpy as np\n",
    "import matplotlib.pyplot as plt\n",
    "%matplotlib inline\n",
    "\n",
    "births = np.loadtxt('us_births_69_88.csv', skiprows=1, delimiter=',', dtype=int)\n",
    "\n",
    "total = np.sum(births[:, 2])\n",
    "\n",
    "prob = births[:, 2]\n",
    "\n",
    "overfilled = []\n",
    "underfilled = []\n",
    "\n",
    "pr = np.array(prob)\n",
    "average_val = np.mean(prob)\n",
    "\n",
    "buckets = np.zeros((pr.shape[0], 2), dtype=int)\n",
    "limiters = np.full(pr.shape[0], average_val)\n",
    "\n",
    "buckets[::, 0] = np.arange(pr.shape[0])\n",
    "            \n",
    "def sample(size):\n",
    "        index = np.random.randint(0, pr.shape[0], size=size)\n",
    "        position = np.random.randint(0, average_val, size=size)\n",
    "        mask = position < limiters[index]\n",
    "        result = np.where(mask, buckets[::, 0][index], buckets[::, 1][index]) \n",
    "        return result\n",
    "    \n",
    "def even_out_buckets():\n",
    "    for i in range(pr.shape[0]):\n",
    "        if  pr[i] < average_val:\n",
    "            underfilled.append(i)\n",
    "        elif pr[i] > average_val:\n",
    "            overfilled.append(i)\n",
    "                \n",
    "    while len(underfilled) > 0 and len(overfilled) > 0:\n",
    "        current_of = overfilled.pop()\n",
    "        current_uf = underfilled.pop()\n",
    "        \n",
    "        limiters[current_uf] = pr[current_uf]\n",
    "        buckets[current_uf][1] = current_of\n",
    "        \n",
    "        pr[current_of] -= average_val - pr[current_uf]\n",
    "        \n",
    "        if pr[current_of] < average_val:\n",
    "            underfilled.append(current_of)\n",
    "        elif pr[current_of] > average_val:\n",
    "            overfilled.append(current_of)\n",
    "            \n",
    "def random_dates():\n",
    "    result = []\n",
    "    counter = 0\n",
    "    encountered_days = set()\n",
    "    \n",
    "    for day in samples:\n",
    "        counter += 1\n",
    "        if day in encountered_days:\n",
    "            result.append(counter)\n",
    "            encountered_days.clear()\n",
    "            counter = 0\n",
    "        else:\n",
    "            encountered_days.add(day)\n",
    "            \n",
    "    return result\n",
    "    \n",
    "even_out_buckets()\n",
    "    \n",
    "samples = sample(10000000)\n",
    "               \n",
    "plt.hist(random_dates(), bins=range(1, 100))\n",
    "plt.show()"
   ]
  },
  {
   "cell_type": "markdown",
   "metadata": {},
   "source": [
    "\n",
    "**Problem 2d.** Show that the frequency histogram for empirical birthday frequencies can actually be computed exactly, and implement your idea. To this end, design a recurence relation using conditional probabilities and use dynamic programming."
   ]
  },
  {
   "cell_type": "markdown",
   "metadata": {},
   "source": [
    "**BONUS**. An alternative plotting library: plotly"
   ]
  },
  {
   "cell_type": "code",
   "execution_count": 1,
   "metadata": {},
   "outputs": [
    {
     "name": "stdout",
     "output_type": "stream",
     "text": [
      "Collecting plotly\n",
      "  Downloading https://files.pythonhosted.org/packages/44/6d/8528b0518a6f4fbe88bdc450670326d29824f704fc16e5edb01d43dcc0a8/plotly-3.4.0-py2.py3-none-any.whl (37.8MB)\n",
      "\u001b[K    100% |████████████████████████████████| 37.8MB 23kB/s eta 0:00:012 2% |▉                               | 1.0MB 2.0MB/s eta 0:00:19    5% |█▉                              | 2.2MB 2.3MB/s eta 0:00:16    7% |██▌                             | 2.9MB 2.8MB/s eta 0:00:13    11% |███▊                            | 4.4MB 5.4MB/s eta 0:00:07    16% |█████▎                          | 6.2MB 3.8MB/s eta 0:00:09    19% |██████▍                         | 7.5MB 2.7MB/s eta 0:00:12    22% |███████▏                        | 8.5MB 2.1MB/s eta 0:00:14    31% |██████████▏                     | 12.0MB 2.4MB/s eta 0:00:11    33% |██████████▊                     | 12.7MB 3.2MB/s eta 0:00:08    38% |████████████▍                   | 14.6MB 1.7MB/s eta 0:00:14    39% |████████████▌                   | 14.7MB 1.7MB/s eta 0:00:14    41% |█████████████▏                  | 15.5MB 2.1MB/s eta 0:00:11    45% |██████████████▋                 | 17.2MB 2.0MB/s eta 0:00:11    50% |████████████████▎               | 19.2MB 920kB/s eta 0:00:21    53% |█████████████████▏              | 20.2MB 6.1MB/s eta 0:00:03    57% |██████████████████▍             | 21.7MB 2.8MB/s eta 0:00:06    64% |████████████████████▋           | 24.4MB 415kB/s eta 0:00:33    65% |████████████████████▉           | 24.6MB 4.6MB/s eta 0:00:03    72% |███████████████████████         | 27.2MB 3.3MB/s eta 0:00:04    80% |█████████████████████████▊      | 30.4MB 2.3MB/s eta 0:00:04    86% |███████████████████████████▊    | 32.6MB 2.9MB/s eta 0:00:02\n",
      "\u001b[?25hRequirement already satisfied: nbformat>=4.2 in /home/andrzej/rpis/lib/python3.6/site-packages (from plotly)\n",
      "Requirement already satisfied: decorator>=4.0.6 in /home/andrzej/rpis/lib/python3.6/site-packages (from plotly)\n",
      "Collecting retrying>=1.3.3 (from plotly)\n",
      "  Downloading https://files.pythonhosted.org/packages/44/ef/beae4b4ef80902f22e3af073397f079c96969c69b2c7d52a57ea9ae61c9d/retrying-1.3.3.tar.gz\n",
      "Requirement already satisfied: six in /home/andrzej/rpis/lib/python3.6/site-packages (from plotly)\n",
      "Collecting requests (from plotly)\n",
      "  Downloading https://files.pythonhosted.org/packages/f1/ca/10332a30cb25b627192b4ea272c351bce3ca1091e541245cccbace6051d8/requests-2.20.0-py2.py3-none-any.whl (60kB)\n",
      "\u001b[K    100% |████████████████████████████████| 61kB 1.5MB/s ta 0:00:01\n",
      "\u001b[?25hCollecting pytz (from plotly)\n",
      "  Downloading https://files.pythonhosted.org/packages/f8/0e/2365ddc010afb3d79147f1dd544e5ee24bf4ece58ab99b16fbb465ce6dc0/pytz-2018.7-py2.py3-none-any.whl (506kB)\n",
      "\u001b[K    100% |████████████████████████████████| 512kB 882kB/s ta 0:00:01\n",
      "\u001b[?25hRequirement already satisfied: jupyter-core in /home/andrzej/rpis/lib/python3.6/site-packages (from nbformat>=4.2->plotly)\n",
      "Requirement already satisfied: jsonschema!=2.5.0,>=2.4 in /home/andrzej/rpis/lib/python3.6/site-packages (from nbformat>=4.2->plotly)\n",
      "Requirement already satisfied: traitlets>=4.1 in /home/andrzej/rpis/lib/python3.6/site-packages (from nbformat>=4.2->plotly)\n",
      "Requirement already satisfied: ipython-genutils in /home/andrzej/rpis/lib/python3.6/site-packages (from nbformat>=4.2->plotly)\n",
      "Collecting chardet<3.1.0,>=3.0.2 (from requests->plotly)\n",
      "  Downloading https://files.pythonhosted.org/packages/bc/a9/01ffebfb562e4274b6487b4bb1ddec7ca55ec7510b22e4c51f14098443b8/chardet-3.0.4-py2.py3-none-any.whl (133kB)\n",
      "\u001b[K    100% |████████████████████████████████| 143kB 1.6MB/s ta 0:00:01\n",
      "\u001b[?25hCollecting urllib3<1.25,>=1.21.1 (from requests->plotly)\n",
      "  Downloading https://files.pythonhosted.org/packages/62/00/ee1d7de624db8ba7090d1226aebefab96a2c71cd5cfa7629d6ad3f61b79e/urllib3-1.24.1-py2.py3-none-any.whl (118kB)\n",
      "\u001b[K    100% |████████████████████████████████| 122kB 1.8MB/s ta 0:00:01\n",
      "\u001b[?25hCollecting certifi>=2017.4.17 (from requests->plotly)\n",
      "  Downloading https://files.pythonhosted.org/packages/56/9d/1d02dd80bc4cd955f98980f28c5ee2200e1209292d5f9e9cc8d030d18655/certifi-2018.10.15-py2.py3-none-any.whl (146kB)\n",
      "\u001b[K    100% |████████████████████████████████| 153kB 1.2MB/s ta 0:00:01    76% |████████████████████████▋       | 112kB 2.1MB/s eta 0:00:01\n",
      "\u001b[?25hCollecting idna<2.8,>=2.5 (from requests->plotly)\n",
      "  Downloading https://files.pythonhosted.org/packages/4b/2a/0276479a4b3caeb8a8c1af2f8e4355746a97fab05a372e4a2c6a6b876165/idna-2.7-py2.py3-none-any.whl (58kB)\n",
      "\u001b[K    100% |████████████████████████████████| 61kB 1.6MB/s ta 0:00:01\n",
      "\u001b[?25hBuilding wheels for collected packages: retrying\n",
      "  Running setup.py bdist_wheel for retrying ... \u001b[?25lerror\n",
      "  Complete output from command /home/andrzej/rpis/bin/python3.6 -u -c \"import setuptools, tokenize;__file__='/tmp/pip-build-du7c9m5c/retrying/setup.py';f=getattr(tokenize, 'open', open)(__file__);code=f.read().replace('\\r\\n', '\\n');f.close();exec(compile(code, __file__, 'exec'))\" bdist_wheel -d /tmp/tmpy_6unphppip-wheel- --python-tag cp36:\n",
      "  usage: -c [global_opts] cmd1 [cmd1_opts] [cmd2 [cmd2_opts] ...]\n",
      "     or: -c --help [cmd1 cmd2 ...]\n",
      "     or: -c --help-commands\n",
      "     or: -c cmd --help\n",
      "  \n",
      "  error: invalid command 'bdist_wheel'\n",
      "  \n",
      "  ----------------------------------------\n",
      "\u001b[31m  Failed building wheel for retrying\u001b[0m\n",
      "\u001b[?25h  Running setup.py clean for retrying\n",
      "Failed to build retrying\n",
      "Installing collected packages: retrying, chardet, urllib3, certifi, idna, requests, pytz, plotly\n",
      "  Running setup.py install for retrying ... \u001b[?25ldone\n",
      "\u001b[?25hSuccessfully installed certifi-2018.10.15 chardet-3.0.4 idna-2.7 plotly-3.4.0 pytz-2018.7 requests-2.20.0 retrying-1.3.3 urllib3-1.24.1\n"
     ]
    },
    {
     "data": {
      "text/html": [
       "<script type=\"text/javascript\">window.PlotlyConfig = {MathJaxConfig: 'local'};</script><script type=\"text/javascript\">if (window.MathJax) {MathJax.Hub.Config({SVG: {font: \"STIX-Web\"}});}</script><script>requirejs.config({paths: { 'plotly': ['https://cdn.plot.ly/plotly-latest.min']},});if(!window._Plotly) {require(['plotly'],function(plotly) {window._Plotly=plotly;});}</script>"
      ],
      "text/vnd.plotly.v1+html": [
       "<script type=\"text/javascript\">window.PlotlyConfig = {MathJaxConfig: 'local'};</script><script type=\"text/javascript\">if (window.MathJax) {MathJax.Hub.Config({SVG: {font: \"STIX-Web\"}});}</script><script>requirejs.config({paths: { 'plotly': ['https://cdn.plot.ly/plotly-latest.min']},});if(!window._Plotly) {require(['plotly'],function(plotly) {window._Plotly=plotly;});}</script>"
      ]
     },
     "metadata": {},
     "output_type": "display_data"
    },
    {
     "data": {
      "application/vnd.plotly.v1+json": {
       "data": [
        {
         "name": "y=x^2",
         "type": "scatter",
         "uid": "99037306-491a-48d1-83bf-a668c4fd90f3",
         "x": [
          0,
          0.1111111111111111,
          0.2222222222222222,
          0.3333333333333333,
          0.4444444444444444,
          0.5555555555555556,
          0.6666666666666666,
          0.7777777777777777,
          0.8888888888888888,
          1
         ],
         "y": [
          0,
          0.012345679012345678,
          0.04938271604938271,
          0.1111111111111111,
          0.19753086419753085,
          0.308641975308642,
          0.4444444444444444,
          0.6049382716049381,
          0.7901234567901234,
          1
         ]
        },
        {
         "name": "y=-x^2",
         "type": "scatter",
         "uid": "74514899-f926-4c52-83f0-da5ecfbac47a",
         "x": [
          0,
          0.1111111111111111,
          0.2222222222222222,
          0.3333333333333333,
          0.4444444444444444,
          0.5555555555555556,
          0.6666666666666666,
          0.7777777777777777,
          0.8888888888888888,
          1
         ],
         "y": [
          0,
          -0.012345679012345678,
          -0.04938271604938271,
          -0.1111111111111111,
          -0.19753086419753085,
          -0.308641975308642,
          -0.4444444444444444,
          -0.6049382716049381,
          -0.7901234567901234,
          -1
         ]
        }
       ],
       "layout": {}
      },
      "text/html": [
       "<div id=\"66f4699e-c759-47c1-9f77-d6fa180d6724\" style=\"height: 525px; width: 100%;\" class=\"plotly-graph-div\"></div><script type=\"text/javascript\">require([\"plotly\"], function(Plotly) { window.PLOTLYENV=window.PLOTLYENV || {};window.PLOTLYENV.BASE_URL=\"https://plot.ly\";Plotly.newPlot(\"66f4699e-c759-47c1-9f77-d6fa180d6724\", [{\"name\": \"y=x^2\", \"x\": [0.0, 0.1111111111111111, 0.2222222222222222, 0.3333333333333333, 0.4444444444444444, 0.5555555555555556, 0.6666666666666666, 0.7777777777777777, 0.8888888888888888, 1.0], \"y\": [0.0, 0.012345679012345678, 0.04938271604938271, 0.1111111111111111, 0.19753086419753085, 0.308641975308642, 0.4444444444444444, 0.6049382716049381, 0.7901234567901234, 1.0], \"type\": \"scatter\", \"uid\": \"3a3310e1-2b71-4e88-8576-af773111b751\"}, {\"name\": \"y=-x^2\", \"x\": [0.0, 0.1111111111111111, 0.2222222222222222, 0.3333333333333333, 0.4444444444444444, 0.5555555555555556, 0.6666666666666666, 0.7777777777777777, 0.8888888888888888, 1.0], \"y\": [-0.0, -0.012345679012345678, -0.04938271604938271, -0.1111111111111111, -0.19753086419753085, -0.308641975308642, -0.4444444444444444, -0.6049382716049381, -0.7901234567901234, -1.0], \"type\": \"scatter\", \"uid\": \"4aaf16fc-fad3-447b-94c8-3e080d8c1e04\"}], {}, {\"showLink\": true, \"linkText\": \"Export to plot.ly\"})});</script><script type=\"text/javascript\">window.addEventListener(\"resize\", function(){Plotly.Plots.resize(document.getElementById(\"66f4699e-c759-47c1-9f77-d6fa180d6724\"));});</script>"
      ],
      "text/vnd.plotly.v1+html": [
       "<div id=\"66f4699e-c759-47c1-9f77-d6fa180d6724\" style=\"height: 525px; width: 100%;\" class=\"plotly-graph-div\"></div><script type=\"text/javascript\">require([\"plotly\"], function(Plotly) { window.PLOTLYENV=window.PLOTLYENV || {};window.PLOTLYENV.BASE_URL=\"https://plot.ly\";Plotly.newPlot(\"66f4699e-c759-47c1-9f77-d6fa180d6724\", [{\"name\": \"y=x^2\", \"x\": [0.0, 0.1111111111111111, 0.2222222222222222, 0.3333333333333333, 0.4444444444444444, 0.5555555555555556, 0.6666666666666666, 0.7777777777777777, 0.8888888888888888, 1.0], \"y\": [0.0, 0.012345679012345678, 0.04938271604938271, 0.1111111111111111, 0.19753086419753085, 0.308641975308642, 0.4444444444444444, 0.6049382716049381, 0.7901234567901234, 1.0], \"type\": \"scatter\", \"uid\": \"3a3310e1-2b71-4e88-8576-af773111b751\"}, {\"name\": \"y=-x^2\", \"x\": [0.0, 0.1111111111111111, 0.2222222222222222, 0.3333333333333333, 0.4444444444444444, 0.5555555555555556, 0.6666666666666666, 0.7777777777777777, 0.8888888888888888, 1.0], \"y\": [-0.0, -0.012345679012345678, -0.04938271604938271, -0.1111111111111111, -0.19753086419753085, -0.308641975308642, -0.4444444444444444, -0.6049382716049381, -0.7901234567901234, -1.0], \"type\": \"scatter\", \"uid\": \"4aaf16fc-fad3-447b-94c8-3e080d8c1e04\"}], {}, {\"showLink\": true, \"linkText\": \"Export to plot.ly\"})});</script><script type=\"text/javascript\">window.addEventListener(\"resize\", function(){Plotly.Plots.resize(document.getElementById(\"66f4699e-c759-47c1-9f77-d6fa180d6724\"));});</script>"
      ]
     },
     "metadata": {},
     "output_type": "display_data"
    },
    {
     "data": {
      "application/vnd.plotly.v1+json": {
       "data": [
        {
         "type": "heatmap",
         "uid": "a3b68064-889a-4158-a5c9-795b3838281c",
         "z": [
          [
           10,
           20,
           30,
           40
          ],
          [
           20,
           30,
           40,
           50
          ],
          [
           30,
           40,
           50,
           60
          ]
         ]
        }
       ],
       "layout": {}
      },
      "text/html": [
       "<div id=\"76986c65-0889-4329-b9ce-cbb6fc071c7d\" style=\"height: 525px; width: 100%;\" class=\"plotly-graph-div\"></div><script type=\"text/javascript\">require([\"plotly\"], function(Plotly) { window.PLOTLYENV=window.PLOTLYENV || {};window.PLOTLYENV.BASE_URL=\"https://plot.ly\";Plotly.newPlot(\"76986c65-0889-4329-b9ce-cbb6fc071c7d\", [{\"z\": [[10, 20, 30, 40], [20, 30, 40, 50], [30, 40, 50, 60]], \"type\": \"heatmap\", \"uid\": \"de2bb1cf-5f92-4cc2-8ec9-9a2fd19e5173\"}], {}, {\"showLink\": true, \"linkText\": \"Export to plot.ly\"})});</script><script type=\"text/javascript\">window.addEventListener(\"resize\", function(){Plotly.Plots.resize(document.getElementById(\"76986c65-0889-4329-b9ce-cbb6fc071c7d\"));});</script>"
      ],
      "text/vnd.plotly.v1+html": [
       "<div id=\"76986c65-0889-4329-b9ce-cbb6fc071c7d\" style=\"height: 525px; width: 100%;\" class=\"plotly-graph-div\"></div><script type=\"text/javascript\">require([\"plotly\"], function(Plotly) { window.PLOTLYENV=window.PLOTLYENV || {};window.PLOTLYENV.BASE_URL=\"https://plot.ly\";Plotly.newPlot(\"76986c65-0889-4329-b9ce-cbb6fc071c7d\", [{\"z\": [[10, 20, 30, 40], [20, 30, 40, 50], [30, 40, 50, 60]], \"type\": \"heatmap\", \"uid\": \"de2bb1cf-5f92-4cc2-8ec9-9a2fd19e5173\"}], {}, {\"showLink\": true, \"linkText\": \"Export to plot.ly\"})});</script><script type=\"text/javascript\">window.addEventListener(\"resize\", function(){Plotly.Plots.resize(document.getElementById(\"76986c65-0889-4329-b9ce-cbb6fc071c7d\"));});</script>"
      ]
     },
     "metadata": {},
     "output_type": "display_data"
    }
   ],
   "source": [
    "#install plotly with: pip install plotly\n",
    "#you can run this shell command directly from Jupyter, by prefixing it with !\n",
    "!pip install plotly\n",
    "\n",
    "from plotly.offline import download_plotlyjs, init_notebook_mode, plot, iplot\n",
    "import plotly.graph_objs as go\n",
    "import numpy as np\n",
    "\n",
    "init_notebook_mode(connected=True)\n",
    "\n",
    "# example scatterplot\n",
    "\n",
    "x = np.linspace(0, 1, 10)\n",
    "y = x * x\n",
    "\n",
    "iplot([go.Scatter(x=x, y=y, name=\"y=x^2\"), go.Scatter(x=x, y=-y, name=\"y=-x^2\")])\n",
    "\n",
    "# example heatmap\n",
    "\n",
    "iplot([go.Heatmap(z=[[10, 20, 30, 40],\n",
    "                      [20, 30, 40, 50],\n",
    "                      [30, 40, 50, 60]])])\n"
   ]
  }
 ],
 "metadata": {
  "kernelspec": {
   "display_name": "Python 3",
   "language": "python",
   "name": "python3"
  },
  "language_info": {
   "codemirror_mode": {
    "name": "ipython",
    "version": 3
   },
   "file_extension": ".py",
   "mimetype": "text/x-python",
   "name": "python",
   "nbconvert_exporter": "python",
   "pygments_lexer": "ipython3",
   "version": "3.6.6"
  }
 },
 "nbformat": 4,
 "nbformat_minor": 1
}
